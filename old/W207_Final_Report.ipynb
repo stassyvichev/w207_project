{
 "cells": [
  {
   "cell_type": "markdown",
   "metadata": {},
   "source": [
    "# Invasive Species Monitoring"
   ]
  },
  {
   "cell_type": "markdown",
   "metadata": {},
   "source": [
    "## W207-3 Final Project"
   ]
  },
  {
   "cell_type": "markdown",
   "metadata": {},
   "source": [
    "### Authors: Stanimir Vichev, James Nguyen, Melwin Poovakottu, Jonah Smith"
   ]
  },
  {
   "cell_type": "markdown",
   "metadata": {},
   "source": [
    "### Date: 08/21/2017"
   ]
  },
  {
   "cell_type": "markdown",
   "metadata": {},
   "source": [
    "### Introduction:\n",
    "\n",
    "Our team took part in the Invasive Species competition in Kaggle, trying to develop, configure and fit the best machine learning algorithm for binary classification of images. We tried several algorithms, such as Linear Support Vector Machines (SVM), Logistic Regression (LR), single-layer neural networks (single-NN), and Convolutional Neural Networks (CNN), as well as a variety of data augmentation methods to generate more data. In this report we start by describing the competition, followed by exploring the data set and looking at the data augmentation techniques employed. We then describe the implementation and performance of our initial attempts to use simpler algorithms, such as Linear SVM and LR. This is followed by a discussion of our main approach of using a CNN, the theory behind it, how it was implemented, and the resulting performance. We finish by discussing our Kaggle submission results and future improvements\n",
    "\n",
    "### Competition:\n",
    "\n",
    "Tangles of kudzu overwhelm trees in Georgia while cane toads threaten habitats in over a dozen countries worldwide. These are just two invasive species of many which can have damaging effects on the environment, the economy, and even human health. Despite widespread impact, efforts to track the location and spread of invasive species are so costly that they’re difficult to undertake at scale.\n",
    "\n",
    "Currently, ecosystem and plant distribution monitoring depends on expert knowledge. Trained scientists visit designated areas and take note of the species inhabiting them. Using such a highly qualified workforce is expensive, time inefficient, and insufficient since humans cannot cover large areas when sampling.\n",
    "Because scientists cannot sample a large quantity of areas, some machine learning algorithms are used in order to predict the presence or absence of invasive species in areas that have not been sampled. The accuracy of this approach is far from optimal, but still contributes to approaches to solving ecological problems.\n",
    "\n",
    "In this playground competition, Kagglers are challenged to develop algorithms to more accurately identify whether images of forests and foliage contain invasive hydrangea or not. Techniques from computer vision alongside other current technologies like aerial imaging can make invasive species monitoring cheaper, faster, and more reliable.\n",
    "\n",
    "The data set contains pictures taken in a Brazilian national forest. In some of the pictures there is Hydrangea, a beautiful invasive species original of Asia. Based on the training pictures and the labels provided, the participant should predict the presence of the invasive species in the testing set of pictures.\n",
    "\n",
    "More details at: https://www.kaggle.com/c/invasive-species-monitoring"
   ]
  },
  {
   "cell_type": "code",
   "execution_count": 1,
   "metadata": {
    "collapsed": true
   },
   "outputs": [],
   "source": [
    "from PIL import Image\n",
    "import pandas as pd\n",
    "import numpy as np\n",
    "import os\n",
    "import tensorflow as tf\n",
    "from imgaug import augmenters as iaa\n",
    "import imgaug as ia\n",
    "import matplotlib.pyplot as plt\n",
    "from tensorflow.python.framework import random_seed\n",
    "\n",
    "import numpy as np\n",
    "def reset_graph(seed=42):\n",
    "    tf.reset_default_graph()\n",
    "    tf.set_random_seed(seed)\n",
    "    np.random.seed(seed)"
   ]
  },
  {
   "cell_type": "markdown",
   "metadata": {},
   "source": [
    "### Exploring the Data\n",
    "\n",
    "We had around 2k images for training and 1k images for testing, the latter being unlabelled data used for our Kaggle submissions. Each image had colour and dimensions (866,1154,3), meaning that we were faced with the Curse of Dimensionality: having a lot of features and not enough data to cover the sample space. Additionally, the images were large and would take up a lot of memory, so we loaded them in batches for processing and training. The below classes and functions are used to perform data loading. "
   ]
  },
  {
   "cell_type": "code",
   "execution_count": 10,
   "metadata": {
    "collapsed": true
   },
   "outputs": [],
   "source": [
    "#TODO change to train_data/train_labels.csv\n",
    "data_path = \"train_data/\"\n",
    "# data_path = \"D:/MIDS/W207_3 Machine Learning/project_data/\"\n",
    "train_labels = pd.read_csv(data_path +\"train_labels.csv\")['invasive'].values"
   ]
  },
  {
   "cell_type": "code",
   "execution_count": 11,
   "metadata": {},
   "outputs": [],
   "source": [
    "train_data_path = data_path\n",
    "test_data_path = data_path +\"test/\"\n",
    "# train_data_path = data_path + \"train/\"\n",
    "# test_data_path = data_path + \"test/\"\n",
    "def load_images(indices):\n",
    "    images= np.zeros(shape=(len(indices), 866, 1154, 3), dtype=np.uint8)\n",
    "    for p, i in enumerate(indices):\n",
    "        im = Image.open(train_data_path+str(i+1)+\".jpg\")\n",
    "    # open image file and store in variable `im`, then\n",
    "        images[p] = np.array(im)\n",
    "    images = images.astype(np.float32)\n",
    "    images = np.multiply(images, 1.0 / 255.0)\n",
    "\n",
    "    return images\n",
    "\n",
    "def load_test_images(indices):\n",
    "    images= np.zeros(shape=(len(indices), 866, 1154, 3), dtype=np.uint8)\n",
    "    for p, i in enumerate(indices):\n",
    "        im = Image.open(test_data_path+str(i+1)+\".jpg\")\n",
    "    # open image file and store in variable `im`, then\n",
    "        newimg= np.array(im).reshape(866,1154,3)\n",
    "    \n",
    "        images[p] = newimg\n",
    "    images = images.astype(np.float32)\n",
    "    images = np.multiply(images, 1.0 / 255.0)\n",
    "\n",
    "    return images\n",
    "\n",
    "def load_images_flat(indices, labels, path = data_path, seq = None):\n",
    "    # resize to (400,300 from now and flatten array)\n",
    "    # images= np.zeros(shape=(len(indices), 1440000), dtype=np.uint8)\n",
    "    images= np.zeros(shape=(len(indices), 2998092), dtype=np.uint8)\n",
    "    new_labels = np.zeros(shape = (labels.shape[0],))\n",
    "    if seq:\n",
    "        images= np.zeros(shape=(len(indices)*2, 2998092), dtype=np.uint8)\n",
    "        new_labels = np.zeros(shape = (labels.shape[0]*2,))\n",
    "    index = 0\n",
    "    for p, i in enumerate(indices):\n",
    "        im = Image.open(path+str(i+1)+\".jpg\")\n",
    "        # doing an extra resize\n",
    "        # arr = np.array(im.resize((800,600))).reshape(1,1440000)\n",
    "        vanilla_arr = np.array(im).reshape(1,2998092)\n",
    "        images[index] = vanilla_arr\n",
    "        new_labels[index]=labels[p]\n",
    "        if seq:\n",
    "            aug_arr = seq.augment_images([np.array(im)])[0].reshape(1,2998092)\n",
    "            index +=1\n",
    "            images[index] = aug_arr\n",
    "            new_labels[index]=labels[p]\n",
    "        index +=1\n",
    "    images = images.astype(np.float32)\n",
    "    images = np.multiply(images, 1.0 / 255.0)\n",
    "    return images, new_labels"
   ]
  },
  {
   "cell_type": "code",
   "execution_count": 4,
   "metadata": {},
   "outputs": [
    {
     "name": "stdout",
     "output_type": "stream",
     "text": [
      "Example Image, classified as 1\n",
      "Example Image, classified as 0\n"
     ]
    }
   ],
   "source": [
    "im_i = 3\n",
    "print(\"Example Image, classified as \"+str(train_labels[im_i-1]))\n",
    "im = Image.open(train_data_path+str(im_i)+\".jpg\")\n",
    "im.thumbnail([300,400])\n",
    "im.save(\"example_invasive.png\")\n",
    "# im.show()\n",
    "\n",
    "im_i = 1\n",
    "print(\"Example Image, classified as \"+str(train_labels[im_i-1]))\n",
    "im = Image.open(train_data_path+str(im_i)+\".jpg\")\n",
    "im.thumbnail([300,400])\n",
    "im.save(\"example_no_invasive.png\")\n",
    "# im.show()"
   ]
  },
  {
   "cell_type": "markdown",
   "metadata": {},
   "source": [
    "Example of an image with the invasive species:\n",
    "![example_invasive](example_invasive.png)\n",
    "\n",
    "Example of an image without the invasive species:\n",
    "![example_no_invasive](example_no_invasive.png)"
   ]
  },
  {
   "cell_type": "markdown",
   "metadata": {},
   "source": [
    "This class is created to load the images and to manage lazy loading of images in different epoches. Lazy loading is important because of limited GPU/CPU memory resources. The loading also shuffles images for every new epoch to maximize training efficiency. This version of the class is without image data augmentation."
   ]
  },
  {
   "cell_type": "code",
   "execution_count": 6,
   "metadata": {
    "collapsed": true
   },
   "outputs": [],
   "source": [
    "class DataSet(object):\n",
    "\n",
    "  def __init__(self,\n",
    "               image_indices,\n",
    "               labels,\n",
    "               seed=None):\n",
    "    seed1, seed2 = random_seed.get_seed(seed)\n",
    "    # If op level seed is not set, use whatever graph level seed is returned\n",
    "    np.random.seed(seed1 if seed is None else seed2)\n",
    "    self._num_examples = len(image_indices)\n",
    "    self._image_indices = image_indices\n",
    "    self._labels = labels\n",
    "    self._epochs_completed = 0\n",
    "    self._index_in_epoch = 0\n",
    "\n",
    "  @property\n",
    "  def image_indices(self):\n",
    "    return self._image_indices\n",
    "\n",
    "  @property\n",
    "  def labels(self):\n",
    "    return self._labels\n",
    "\n",
    "  @property\n",
    "  def num_examples(self):\n",
    "    return self._num_examples\n",
    "\n",
    "  @property\n",
    "  def epochs_completed(self):\n",
    "    return self._epochs_completed\n",
    "\n",
    "  def load_images(indices):\n",
    "\n",
    "        images= np.zeros(shape=(len(indices), 866, 1154, 3), dtype=np.uint8)\n",
    "        for i in indices:\n",
    "            im = Image.open(\"train_data/\"+str(i+1)+\".jpg\")\n",
    "        # open image file and store in variable `im`, then\n",
    "            images[i] = np.array(im)\n",
    "        images = images.astype(np.float32)\n",
    "        images = np.multiply(images, 1.0 / 255.0)\n",
    "\n",
    "        return images\n",
    "\n",
    "  def next_batch(self, batch_size, shuffle=True):\n",
    "    \"\"\"Return the next `batch_size` examples from this data set.\"\"\"\n",
    "    start = self._index_in_epoch\n",
    "    # Shuffle for the first epoch\n",
    "    if self._epochs_completed == 0 and start == 0 and shuffle:\n",
    "      perm0 = np.arange(self._num_examples)\n",
    "      np.random.shuffle(perm0)\n",
    "      self._image_indices = self.image_indices[perm0]\n",
    "      self._labels = self.labels[perm0]\n",
    "    # Go to the next epoch\n",
    "    if start + batch_size > self._num_examples:\n",
    "      # Finished epoch\n",
    "      self._epochs_completed += 1\n",
    "      # Get the rest examples in this epoch\n",
    "      rest_num_examples = self._num_examples - start\n",
    "      images_rest_part = self._image_indices[start:self._num_examples]\n",
    "      labels_rest_part = self._image_indices[start:self._num_examples]\n",
    "      # Shuffle the data\n",
    "      if shuffle:\n",
    "        perm = np.arange(self._num_examples)\n",
    "        np.random.shuffle(perm)\n",
    "        self._image_indices = self.image_indices[perm]\n",
    "        self._labels = self.labels[perm]\n",
    "      # Start next epoch\n",
    "      start = 0\n",
    "      self._index_in_epoch = batch_size - rest_num_examples\n",
    "      end = self._index_in_epoch\n",
    "      images_new_part = self._image_indices[start:end]\n",
    "      labels_new_part = self._labels[start:end]\n",
    "      return load_images(np.concatenate((images_rest_part, images_new_part), axis =0)), np.concatenate((labels_rest_part, labels_new_part), axis=0)\n",
    "    else:\n",
    "      self._index_in_epoch += batch_size\n",
    "      end = self._index_in_epoch\n",
    "      return load_images(self._image_indices[start:end]), self._labels[start:end]\n",
    "  def next_pred_batch(self, batch_size):\n",
    "    \"\"\"Return the next `batch_size` examples from this data set.\"\"\"\n",
    "    start = self._index_in_epoch\n",
    "    if start + batch_size > self._num_examples:\n",
    "      rest_num_examples = self._num_examples - start\n",
    "      images_rest_part = self._image_indices[start:self._num_examples]\n",
    "      return load_test_images(images_rest_part)\n",
    "    else:\n",
    "      self._index_in_epoch += batch_size\n",
    "      end = self._index_in_epoch\n",
    "      return load_test_images(self._image_indices[start:end])"
   ]
  },
  {
   "cell_type": "markdown",
   "metadata": {},
   "source": [
    "This class is created to load the images and to manage lazy loading of images in different epoches. Lazy loading is important because of limited GPU/CPU memory resources. The loading also shuffles images for every new epoch to maximize training efficiency. We also include data augmentation procedure to generate more images by apply techques such as blurring or rotation. The augmented data is combined with original data to produce new datasets. "
   ]
  },
  {
   "cell_type": "code",
   "execution_count": 7,
   "metadata": {
    "collapsed": true
   },
   "outputs": [],
   "source": [
    "class DataAugSet(object):\n",
    "\n",
    "  def __init__(self,\n",
    "               image_indices,\n",
    "               labels,\n",
    "               seed=None):\n",
    "    seed1, seed2 = random_seed.get_seed(seed)\n",
    "    # If op level seed is not set, use whatever graph level seed is returned\n",
    "    np.random.seed(seed1 if seed is None else seed2)\n",
    "    self._num_examples = len(image_indices)\n",
    "    self._image_indices = image_indices\n",
    "    self._labels = labels\n",
    "    self._epochs_completed = 0\n",
    "    self._index_in_epoch = 0\n",
    "\n",
    "  @property\n",
    "  def image_indices(self):\n",
    "    return self._image_indices\n",
    "\n",
    "  @property\n",
    "  def labels(self):\n",
    "    return self._labels\n",
    "\n",
    "  @property\n",
    "  def num_examples(self):\n",
    "    return self._num_examples\n",
    "\n",
    "  @property\n",
    "  def epochs_completed(self):\n",
    "    return self._epochs_completed\n",
    "\n",
    "  def load_images(self, indices):\n",
    "        images= np.zeros(shape=(len(indices), 866, 1154, 3), dtype=np.uint8)\n",
    "        for p, i in enumerate(indices):\n",
    "            im = Image.open(\"train_data/\"+str(i+1)+\".jpg\")\n",
    "        # open image file and store in variable `im`, then\n",
    "            images[p] = np.array(im)\n",
    "        images = images.astype(np.float32)\n",
    "        images = np.multiply(images, 1.0 / 255.0)\n",
    "#         sometimes = lambda aug: iaa.Sometimes(0.5, aug)\n",
    "\n",
    "        seq = iaa.Sequential([\n",
    "#             iaa.Crop(px=(0, 16)), # crop images from each side by 0 to 16px (randomly chosen)\n",
    "#             iaa.Fliplr(0.5), # horizontally flip 50% of the images\n",
    "            iaa.GaussianBlur(sigma=(1, 4.0)), # blur images with a sigma of 0 to 3.0\n",
    "#             sometimes(iaa.Affine( rotate=(-90, 90)))\n",
    "\n",
    "        ])\n",
    "\n",
    "    \n",
    "        images_trans = seq.augment_images(images)\n",
    "        return np.concatenate((images, images_trans), axis =0)\n",
    "        return images\n",
    "  def load_ori_images(self, indices):\n",
    "        images= np.zeros(shape=(len(indices), 866, 1154, 3), dtype=np.uint8)\n",
    "        for p, i in enumerate(indices):\n",
    "            im = Image.open(\"train_data/\"+str(i+1)+\".jpg\")\n",
    "        # open image file and store in variable `im`, then\n",
    "            images[p] = np.array(im)\n",
    "        images = images.astype(np.float32)\n",
    "        images = np.multiply(images, 1.0 / 255.0)\n",
    "        return images\n",
    "  def load_test_images(self, indices):\n",
    "    images= np.zeros(shape=(len(indices), 866, 1154, 3), dtype=np.uint8)\n",
    "    for p, i in enumerate(indices):\n",
    "        im = Image.open(\"test_data/test/\"+str(i+1)+\".jpg\")\n",
    "    # open image file and store in variable `im`, then\n",
    "        newimg= np.array(im).reshape(866,1154,3)\n",
    "\n",
    "        images[p] = newimg\n",
    "    images = images.astype(np.float32)\n",
    "    images = np.multiply(images, 1.0 / 255.0)    \n",
    "    return images\n",
    "  def next_batch(self, batch_size, shuffle=True):\n",
    "    \"\"\"Return the next `batch_size` examples from this data set.\"\"\"\n",
    "    start = self._index_in_epoch\n",
    "    # Shuffle for the first epoch\n",
    "    if self._epochs_completed == 0 and start == 0 and shuffle:\n",
    "      perm0 = np.arange(self._num_examples)\n",
    "      np.random.shuffle(perm0)\n",
    "      self._image_indices = self.image_indices[perm0]\n",
    "      self._labels = self.labels[perm0]\n",
    "    # Go to the next epoch\n",
    "    if start + batch_size > self._num_examples:\n",
    "      # Finished epoch\n",
    "#       print(\"Finish epoch\")\n",
    "\n",
    "      self._epochs_completed += 1\n",
    "      # Get the rest examples in this epoch\n",
    "      rest_num_examples = self._num_examples - start\n",
    "      images_rest_part = self._image_indices[start:self._num_examples]\n",
    "      labels_rest_part = self._image_indices[start:self._num_examples]\n",
    "      # Shuffle the data\n",
    "      if shuffle:\n",
    "        perm = np.arange(self._num_examples)\n",
    "        np.random.shuffle(perm)\n",
    "        self._image_indices = self.image_indices[perm]\n",
    "        self._labels = self.labels[perm]\n",
    "      # Start next epoch\n",
    "      start = 0\n",
    "      self._index_in_epoch = batch_size - rest_num_examples\n",
    "      end = self._index_in_epoch\n",
    "      images_new_part = self._image_indices[start:end]\n",
    "      labels_new_part = self._labels[start:end]\n",
    "      labels = np.concatenate((labels_rest_part, labels_new_part), axis=0)\n",
    "      labels = np.concatenate((labels, labels), axis=0)\n",
    "      return self.load_images(np.concatenate((images_rest_part, images_new_part), axis =0)),labels\n",
    "    else:\n",
    "      self._index_in_epoch += batch_size\n",
    "      end = self._index_in_epoch\n",
    "      labels = self._labels[start:end]\n",
    "      labels = np.concatenate((labels, labels), axis=0)\n",
    "      return self.load_images(self._image_indices[start:end]), labels\n",
    "  def next_pred_batch(self, batch_size):\n",
    "    \"\"\"Return the next `batch_size` examples from this data set.\"\"\"\n",
    "    start = self._index_in_epoch\n",
    "    if start + batch_size > self._num_examples:\n",
    "      rest_num_examples = self._num_examples - start\n",
    "      images_rest_part = self._image_indices[start:self._num_examples]\n",
    "      return self.load_test_images(images_rest_part)\n",
    "    else:\n",
    "      self._index_in_epoch += batch_size\n",
    "      end = self._index_in_epoch\n",
    "      return self.load_test_images(self._image_indices[start:end])\n",
    "#   def next_val_batch(self, batch_size, shuffle=True):\n",
    "#     \"\"\"Return the next `batch_size` examples from this data set.\"\"\"\n",
    "#     start = self._index_in_epoch\n",
    "#     # Shuffle for the first epoch\n",
    "#     if self._epochs_completed == 0 and start == 0 and shuffle:\n",
    "#       perm0 = np.arange(self._num_examples)\n",
    "#       np.random.shuffle(perm0)\n",
    "#       self._image_indices = self.image_indices[perm0]\n",
    "#       self._labels = self.labels[perm0]\n",
    "#     # Go to the next epoch\n",
    "#     if start + batch_size > self._num_examples:\n",
    "#       # Finished epoch\n",
    "#       print(\"Finish epoch\")\n",
    "#       self._epochs_completed += 1\n",
    "#       # Get the rest examples in this epoch\n",
    "#       rest_num_examples = self._num_examples - start\n",
    "#       images_rest_part = self._image_indices[start:self._num_examples]\n",
    "#       labels_rest_part = self._image_indices[start:self._num_examples]\n",
    "#       # Shuffle the data\n",
    "#       if shuffle:\n",
    "#         perm = np.arange(self._num_examples)\n",
    "#         np.random.shuffle(perm)\n",
    "#         self._image_indices = self.image_indices[perm]\n",
    "#         self._labels = self.labels[perm]\n",
    "#       # Start next epoch\n",
    "#       start = 0\n",
    "#       self._index_in_epoch = batch_size - rest_num_examples\n",
    "#       end = self._index_in_epoch\n",
    "#       images_new_part = self._image_indices[start:end]\n",
    "#       labels_new_part = self._labels[start:end]\n",
    "#       labels = np.concatenate((labels_rest_part, labels_new_part), axis=0)\n",
    "#       return self.load_ori_images(np.concatenate((images_rest_part, images_new_part), axis =0)),labels\n",
    "#     else:\n",
    "#       self._index_in_epoch += batch_size\n",
    "#       end = self._index_in_epoch\n",
    "#       labels = self._labels[start:end]\n",
    "#       return self.load_ori_images(self._image_indices[start:end]), labels\n",
    " \n"
   ]
  },
  {
   "cell_type": "markdown",
   "metadata": {},
   "source": [
    "### Initial Attempts\n",
    "\n",
    "We used Logistic Regression and Linear SVM in order to get a baseline accuracy on our train and test dataset. First, LR was chosen as it is the precursor to Neural Networks and CNNs, which we would use eventually. Linear SVMs, on the other hand, are another powerful algorithm for fitting non-linear data, especially one with a large number of features. \n",
    "\n",
    "#### Logistic Regression\n",
    "\n",
    "we are using simple logistic regression in tensorflow to classify the images. We will convert each image to a one dimensional vector of length height X width X channels. We create two variables one for the feature weights another for the bias. We use cross entropy as the cost function and use gradient descent to find the minima.\n",
    "\n",
    "First, we use the DataSet class to prepare the data for loading."
   ]
  },
  {
   "cell_type": "code",
   "execution_count": 8,
   "metadata": {
    "collapsed": true
   },
   "outputs": [],
   "source": [
    "#Loading the Data\n",
    "train_size = 1840\n",
    "dev_size = 1840\n",
    "\n",
    "y_train = train_labels[:train_size]\n",
    "y_dev = train_labels[train_size:dev_size]\n",
    "train_data = DataSet(np.arange(0,train_size), y_train)\n",
    "test_data = DataSet(np.arange(train_size,len(train_labels)), y_dev)\n",
    "\n",
    "y_validation = train_labels[train_size:]\n",
    "validation_data = DataSet(np.arange(train_size,len(train_labels)), y_validation)\n",
    "y_train[1]\n",
    "\n",
    "y_train = train_labels[:1600]\n",
    "y_dev = train_labels[1600:]\n",
    "train_data = DataSet(np.arange(0,1600), y_train)\n",
    "test_data = DataSet(np.arange(1600,len(train_labels)), y_dev)\n",
    "\n",
    "X_val, y_val = validation_data.next_batch(80)\n",
    "#reshaping data, so that all pixel values for an image are on a single line\n",
    "X_val = X_val.reshape(X_val.shape[0],866*1154*3)"
   ]
  },
  {
   "cell_type": "markdown",
   "metadata": {},
   "source": [
    "We then set up our Tensorflow graph and inputs."
   ]
  },
  {
   "cell_type": "code",
   "execution_count": 15,
   "metadata": {
    "collapsed": true
   },
   "outputs": [],
   "source": [
    "height = 866\n",
    "width = 1154\n",
    "channels = 3\n",
    "n_inputs = height * width\n",
    "\n",
    "n_outputs = 2\n",
    "# reset tf graph before run\n",
    "reset_graph()\n",
    "\n",
    "# set up the input tf tensors\n",
    "with tf.name_scope(\"inputs\"):\n",
    "    X_lgr = tf.placeholder(tf.float32, shape=[None, height* width* channels], name=\"X_lgr\")\n",
    "\n",
    "    y = tf.placeholder(tf.int32, shape=[None], name=\"y\")\n",
    "    training = tf.placeholder_with_default(False, shape=[], name='training')\n",
    "    W = tf.Variable(tf.zeros([height* width* channels,2]))\n",
    "    b = tf.Variable(tf.zeros([2]))\n",
    "    \n",
    "with tf.name_scope(\"Logistic_regression\"):\n",
    "    #y_lgr =tf.transpose(tf.matmul(X_lgr,W) + b)\n",
    "    #y_lgr.eval()\n",
    "    y_lgr =tf.matmul(X_lgr,W) + b\n",
    "    #print(y_lgr.shape)\n",
    "    \n",
    "with tf.name_scope(\"train_lgr\"):\n",
    "    cross_entropy = tf.nn.sparse_softmax_cross_entropy_with_logits(logits=y_lgr, labels=y)\n",
    "    loss_lgr = tf.reduce_mean(cross_entropy)\n",
    "    optimizer = tf.train.GradientDescentOptimizer(0.5)\n",
    "    training_lgr = optimizer.minimize(loss_lgr)\n",
    "\n",
    "with tf.name_scope(\"eval_logistiic\"):\n",
    "    correct_lgr = tf.nn.in_top_k(y_lgr, y, 1)\n",
    "    accuracy_lgr = tf.reduce_mean(tf.cast(correct_lgr, tf.float32))        \n",
    "\n",
    "with tf.name_scope(\"init_and_save\"):\n",
    "    init = tf.global_variables_initializer()\n",
    "    saver = tf.train.Saver()"
   ]
  },
  {
   "cell_type": "markdown",
   "metadata": {},
   "source": [
    "The below classes are used to capture our model parameters when we manage to fit a new model. This is needed so that we could reload them later and run our predictions with them."
   ]
  },
  {
   "cell_type": "code",
   "execution_count": 16,
   "metadata": {
    "collapsed": true
   },
   "outputs": [],
   "source": [
    "def get_model_params():\n",
    "    gvars = tf.get_collection(tf.GraphKeys.GLOBAL_VARIABLES)\n",
    "    return {gvar.op.name: value for gvar, value in zip(gvars, tf.get_default_session().run(gvars))}\n",
    "\n",
    "def restore_model_params(model_params):\n",
    "    gvar_names = list(model_params.keys())\n",
    "    assign_ops = {gvar_name: tf.get_default_graph().get_operation_by_name(gvar_name + \"/Assign\")\n",
    "                  for gvar_name in gvar_names}\n",
    "    init_values = {gvar_name: assign_op.inputs[1] for gvar_name, assign_op in assign_ops.items()}\n",
    "    feed_dict = {init_values[gvar_name]: model_params[gvar_name] for gvar_name in gvar_names}\n",
    "    tf.get_default_session().run(assign_ops, feed_dict=feed_dict)"
   ]
  },
  {
   "cell_type": "markdown",
   "metadata": {},
   "source": [
    "With the tf tensors set, we can go on to fit our model. We will keep running until we stop making any progress on our loss function or when we reach 20 iterations. The train and test accuracy at each step are printed.  "
   ]
  },
  {
   "cell_type": "code",
   "execution_count": 18,
   "metadata": {},
   "outputs": [
    {
     "name": "stdout",
     "output_type": "stream",
     "text": [
      "Epoch 0, train accuracy: 36.2500%, valid. accuracy: 38.7500%, valid. best loss: 35662.085938\n",
      "Epoch 1, train accuracy: 37.5000%, valid. accuracy: 42.5000%, valid. best loss: 8927.712891\n",
      "Epoch 2, train accuracy: 47.5000%, valid. accuracy: 45.0000%, valid. best loss: 8927.712891\n",
      "Epoch 3, train accuracy: 73.7500%, valid. accuracy: 68.7500%, valid. best loss: 8927.712891\n",
      "Epoch 4, train accuracy: 53.7500%, valid. accuracy: 46.2500%, valid. best loss: 8927.712891\n",
      "Early stopping!\n"
     ]
    }
   ],
   "source": [
    "n_epochs = 20\n",
    "batch_size = 80\n",
    "\n",
    "best_loss_val = np.infty\n",
    "check_interval = 5\n",
    "checks_since_last_progress = 0\n",
    "max_checks_without_progress = 10\n",
    "best_model_params = None \n",
    "\n",
    "with tf.Session() as sess:\n",
    "    init.run()\n",
    "    for epoch in range(n_epochs):\n",
    "        for iteration in range(train_data.num_examples // batch_size):\n",
    "            X_batch, y_batch = train_data.next_batch(batch_size)\n",
    "            X_batch = X_batch.reshape(X_batch.shape[0],height* width* channels)\n",
    "            sess.run(training_lgr, feed_dict={X_lgr: X_batch, y: y_batch, training: True})\n",
    "            if iteration % check_interval == 0:\n",
    "                loss_val = loss_lgr.eval(feed_dict={X_lgr: X_val, y: y_val})\n",
    "                if loss_val < best_loss_val:\n",
    "                    best_loss_val = loss_val\n",
    "                    checks_since_last_progress = 0\n",
    "                    best_model_params = get_model_params()\n",
    "                else:\n",
    "                    checks_since_last_progress += 1\n",
    "            #print( best_loss_val,\" \",loss_val)\n",
    "        acc_train = accuracy_lgr.eval(feed_dict={X_lgr: X_batch, y: y_batch})\n",
    "        acc_val = accuracy_lgr.eval(feed_dict={X_lgr: X_val,\n",
    "                                           y: y_val})\n",
    "        print(\"Epoch {}, train accuracy: {:.4f}%, valid. accuracy: {:.4f}%, valid. best loss: {:.6f}\".format(\n",
    "                  epoch, acc_train * 100, acc_val * 100, best_loss_val))\n",
    "        if checks_since_last_progress > max_checks_without_progress:\n",
    "            print(\"Early stopping!\")\n",
    "            break\n",
    "\n",
    "    if best_model_params:\n",
    "        restore_model_params(best_model_params)\n",
    "    save_path = saver.save(sess, \"./my_lr_model\")"
   ]
  },
  {
   "cell_type": "markdown",
   "metadata": {},
   "source": [
    "Please see below for a sample output:\n",
    "\n",
    "Epoch 0, train accuracy: 76.2500%, valid. accuracy: 63.7500%, valid. best loss: 24724.953125\n",
    "\n",
    "Epoch 1, train accuracy: 72.5000%, valid. accuracy: 70.0000%, valid. best loss: 10541.773438\n",
    "\n",
    "Epoch 2, train accuracy: 47.5000%, valid. accuracy: 47.5000%, valid. best loss: 10541.773438\n",
    "\n",
    "Epoch 3, train accuracy: 67.5000%, valid. accuracy: 62.5000%, valid. best loss: 10541.773438\n",
    "\n",
    "Epoch 4, train accuracy: 68.7500%, valid. accuracy: 65.0000%, valid. best loss: 10233.330078\n",
    "\n",
    "Epoch 5, train accuracy: 78.7500%, valid. accuracy: 70.0000%, valid. best loss: 10233.330078\n",
    "\n",
    "Epoch 6, train accuracy: 76.2500%, valid. accuracy: 62.5000%, valid. best loss: 10233.330078\n",
    "\n",
    "Epoch 7, train accuracy: 61.2500%, valid. accuracy: 61.2500%, valid. best loss: 10233.330078\n",
    "\n",
    "Epoch 8, train accuracy: 68.7500%, valid. accuracy: 63.7500%, valid. best loss: 10233.330078\n",
    "\n",
    "Epoch 9, train accuracy: 62.5000%, valid. accuracy: 61.2500%, valid. best loss: 10233.330078\n",
    "\n",
    "Epoch 10, train accuracy: 57.5000%, valid. accuracy: 62.5000%, valid. best loss: 10233.330078\n",
    "\n",
    "Epoch 11, train accuracy: 67.5000%, valid. accuracy: 66.2500%, valid. best loss: 10233.330078\n",
    "\n",
    "Epoch 12, train accuracy: 56.2500%, valid. accuracy: 63.7500%, valid. best loss: 10233.330078\n",
    "\n",
    "Epoch 13, train accuracy: 61.2500%, valid. accuracy: 62.5000%, valid. best loss: 10233.330078\n",
    "\n",
    "Epoch 14, train accuracy: 65.0000%, valid. accuracy: 65.0000%, valid. best loss: 10233.330078\n",
    "\n",
    "Epoch 15, train accuracy: 80.0000%, valid. accuracy: 70.0000%, valid. best loss: 10233.330078\n",
    "\n",
    "Epoch 16, train accuracy: 52.5000%, valid. accuracy: 56.2500%, valid. best loss: 10233.330078\n",
    "\n",
    "Epoch 17, train accuracy: 81.2500%, valid. accuracy: 71.2500%, valid. best loss: 10233.330078\n",
    "\n",
    "Early stopping!"
   ]
  },
  {
   "cell_type": "markdown",
   "metadata": {},
   "source": [
    "We can see from our results that LR has strongly fluctuating training and testing accuracy, with the highest training accuracy being 81% and the highest test accuracy being 71%. This means that the algorithm is not complex enough and seems to be underfitting the data set, which could be down to the fact that LR represents only a single neuron in an NN, so it isn't complex enough to represent any nonlinear relationships correctly. "
   ]
  },
  {
   "cell_type": "markdown",
   "metadata": {},
   "source": [
    "#### Single-layer NN\n",
    "\n",
    "We decided to expand on our LR implementation by adding a hidden layer and creating a simple neural network, which should be much more capable of capturing non-linearity in the image data. \n",
    "\n",
    "First, we set up the data:"
   ]
  },
  {
   "cell_type": "code",
   "execution_count": null,
   "metadata": {
    "collapsed": true
   },
   "outputs": [],
   "source": [
    "y_train = train_labels[:1800]\n",
    "y_dev = train_labels[1800:]\n",
    "train_data = DataSet(np.arange(0,1800), y_train)\n",
    "test_data = DataSet(np.arange(1800,len(train_labels)), y_dev)\n",
    "\n",
    "y_validation = train_labels[1800:]\n",
    "validation_data = DataSet(np.arange(1800,len(train_labels)), y_validation)"
   ]
  },
  {
   "cell_type": "markdown",
   "metadata": {},
   "source": [
    "Then we prepare the tensorflow variables and graph. For this attempt, we add a single fully connected NN layer between the input and output layers:"
   ]
  },
  {
   "cell_type": "code",
   "execution_count": null,
   "metadata": {
    "collapsed": true
   },
   "outputs": [],
   "source": [
    "height = 866\n",
    "width = 1154\n",
    "channels = 3\n",
    "n_inputs = height * width\n",
    "\n",
    "n_fc1 = 32\n",
    "fc1_dropout_rate = 0.5\n",
    "\n",
    "n_outputs = 2\n",
    "\n",
    "reset_graph()\n",
    "\n",
    "with tf.name_scope(\"inputs\"):\n",
    "    X = tf.placeholder(tf.float32, shape=[None, height, width, channels], name=\"X\")\n",
    "    X_resized = tf.image.resize_images(X, [400, 300])\n",
    "    X_resized_flat = tf.reshape(X_resized,shape=[-1,400* 300*channels])\n",
    "\n",
    "    y = tf.placeholder(tf.int32, shape=[None], name=\"y\")\n",
    "    training = tf.placeholder_with_default(False, shape=[], name='training')\n",
    "    \n",
    "    X_nn = tf.placeholder(tf.float32, shape=[None, 400* 300* channels], name=\"X_nn\")\n",
    "\n",
    "with tf.name_scope(\"fc1_nn\"):\n",
    "    fc1_nn = tf.layers.dense(X_resized_flat, 800, activation=tf.nn.relu, name=\"fc1_nn\")\n",
    "    #where do you use drop out layer\n",
    "    fc1_drop = tf.layers.dropout(fc1_nn, fc1_dropout_rate, training=training)\n",
    "\n",
    "with tf.name_scope(\"output_nn\"):\n",
    "    logits_nn = tf.layers.dense(fc1_nn, n_outputs, name=\"output_nn\")\n",
    "    Y_proba = tf.nn.softmax(logits_nn, name=\"Y_proba\")\n",
    "    \n",
    "with tf.name_scope(\"train_nn\"):\n",
    "    xentropy_nn = tf.nn.sparse_softmax_cross_entropy_with_logits(logits=logits_nn, labels=y)\n",
    "    loss_nn = tf.reduce_mean(xentropy_nn)\n",
    "    optimizer_nn = tf.train.AdamOptimizer()\n",
    "    training_op_nn = optimizer_nn.minimize(loss_nn)\n",
    "\n",
    "with tf.name_scope(\"eval\"):\n",
    "    correct = tf.nn.in_top_k(logits_nn, y, 1)\n",
    "    accuracy = tf.reduce_mean(tf.cast(correct, tf.float32))   \n",
    "    \n",
    "with tf.name_scope(\"init_and_save\"):\n",
    "    init = tf.global_variables_initializer()\n",
    "    saver = tf.train.Saver()"
   ]
  },
  {
   "cell_type": "markdown",
   "metadata": {},
   "source": [
    "We then fit the NN and monitor performance:"
   ]
  },
  {
   "cell_type": "code",
   "execution_count": null,
   "metadata": {
    "collapsed": true
   },
   "outputs": [],
   "source": [
    "X_val, y_val = validation_data.next_batch(80)\n",
    "n_epochs = 10\n",
    "batch_size = 30\n",
    "\n",
    "best_loss_val = np.infty\n",
    "check_interval = 5\n",
    "checks_since_last_progress = 0\n",
    "max_checks_without_progress = 30\n",
    "best_model_params = None \n",
    "\n",
    "with tf.Session() as sess:\n",
    "    init.run()\n",
    "    for epoch in range(n_epochs):\n",
    "        for iteration in range(train_data.num_examples // batch_size):\n",
    "            X_batch, y_batch = train_data.next_batch(batch_size)\n",
    "            #X_batch =X_batch.reshape(height*width*channels)\n",
    "            sess.run(training_op_nn, feed_dict={X: X_batch, y: y_batch, training: True})\n",
    "            if iteration % check_interval == 0:\n",
    "                loss_val = loss_nn.eval(feed_dict={X: X_val, y: y_val})\n",
    "                if loss_val < best_loss_val:\n",
    "                    best_loss_val = loss_val\n",
    "                    checks_since_last_progress = 0\n",
    "                    best_model_params = get_model_params()\n",
    "                else:\n",
    "                    checks_since_last_progress += 1\n",
    "        acc_train = accuracy.eval(feed_dict={X: X_batch, y: y_batch})\n",
    "        acc_val = accuracy.eval(feed_dict={X: X_val,y: y_val})\n",
    "        print(\"Epoch {}, train accuracy: {:.4f}%, valid. accuracy: {:.4f}%, valid. best loss: {:.6f}\".format(\n",
    "                  epoch, acc_train * 100, acc_val * 100, best_loss_val))\n",
    "        if checks_since_last_progress > max_checks_without_progress:\n",
    "            print(\"Early stopping!\")\n",
    "            break\n",
    "\n",
    "    if best_model_params:\n",
    "        restore_model_params(best_model_params)\n",
    "    save_path = saver.save(sess, \"./my_isd_model\")"
   ]
  },
  {
   "cell_type": "markdown",
   "metadata": {},
   "source": [
    "Sample output from our runs:\n",
    "\n",
    "Epoch 0, train accuracy: 73.3333%, valid. accuracy: 71.2500%, valid. best loss: 10.095164\n",
    "\n",
    "Epoch 1, train accuracy: 70.0000%, valid. accuracy: 76.2500%, valid. best loss: 8.895315\n",
    "\n",
    "Epoch 2, train accuracy: 80.0000%, valid. accuracy: 73.7500%, valid. best loss: 5.483994\n",
    "\n",
    "Epoch 3, train accuracy: 60.0000%, valid. accuracy: 73.7500%, valid. best loss: 4.458233\n",
    "\n",
    "Epoch 4, train accuracy: 46.6667%, valid. accuracy: 62.5000%, valid. best loss: 3.471657\n",
    "\n",
    "Epoch 5, train accuracy: 73.3333%, valid. accuracy: 60.0000%, valid. best loss: 2.967641\n",
    "\n",
    "Epoch 6, train accuracy: 96.6667%, valid. accuracy: 72.5000%, valid. best loss: 2.967641\n",
    "\n",
    "Epoch 7, train accuracy: 93.3333%, valid. accuracy: 75.0000%, valid. best loss: 2.715569\n",
    "\n",
    "Epoch 8, train accuracy: 93.3333%, valid. accuracy: 77.5000%, valid. best loss: 2.494355\n",
    "\n",
    "Epoch 9, train accuracy: 100.0000%, valid. accuracy: 73.7500%, valid. best loss: 2.358074\n",
    "\n",
    "From the results, we see a marked improvement on the training accuracy, as the single-layer NN captures more of the complexity in the data. The test accuracy is also slightly better than before. "
   ]
  },
  {
   "cell_type": "markdown",
   "metadata": {},
   "source": [
    "#### Linear SVM\n",
    "\n",
    "Next, we fit a model on our data using the Linear SVM algorithm. As we wanted to generate more results by applying data augmentation to the data as it was fed to the algorithm, we had to use a modified DataSet class for SVM."
   ]
  },
  {
   "cell_type": "code",
   "execution_count": 19,
   "metadata": {
    "collapsed": true
   },
   "outputs": [],
   "source": [
    "class DataSetSVM(object):\n",
    "\n",
    "    def __init__(self,\n",
    "                image_indices,\n",
    "                labels,\n",
    "                dataPath = data_path,\n",
    "                seed=None,\n",
    "                aug_array = []):\n",
    "        seed1, seed2 = random_seed.get_seed(seed)\n",
    "        # If op level seed is not set, use whatever graph level seed is returned\n",
    "        np.random.seed(seed1 if seed is None else seed2)\n",
    "        self._num_examples = len(image_indices)\n",
    "        self._image_indices = image_indices\n",
    "        self._labels = labels\n",
    "        self._epochs_completed = 0\n",
    "        self._index_in_epoch = 0\n",
    "        self.path = dataPath\n",
    "        self.aug_array = aug_array\n",
    "\n",
    "    @property\n",
    "    def image_indices(self):\n",
    "        return self._image_indices\n",
    "\n",
    "    @property\n",
    "    def labels(self):\n",
    "        return self._labels\n",
    "\n",
    "    @property\n",
    "    def num_examples(self):\n",
    "        return self._num_examples\n",
    "\n",
    "    @property\n",
    "    def epochs_completed(self):\n",
    "        return self._epochs_completed\n",
    "\n",
    "    def next_batch(self, batch_size, shuffle=True):\n",
    "        \"\"\"Return the next `batch_size` examples from this data set.\"\"\"\n",
    "        \n",
    "        # pick augmentation sequence to apply.\n",
    "        # applying an augmentation sequence means we will return twice the amount of batch_size items,\n",
    "        # as each image sample will be read, and a copy of it will be augmented, making the samples 2*batch_size\n",
    "        aug_seq = np.random.choice(self.aug_array, 1)[0] if self.aug_array else None\n",
    "        \n",
    "        start = self._index_in_epoch\n",
    "        # Shuffle for the first epoch\n",
    "        if self._epochs_completed == 0 and start == 0 and shuffle:\n",
    "            perm0 = np.arange(self._num_examples)\n",
    "            np.random.shuffle(perm0)\n",
    "            self._image_indices = self.image_indices[perm0]\n",
    "            self._labels = self.labels[perm0]\n",
    "        # Go to the next epoch\n",
    "        if start + batch_size > self._num_examples:\n",
    "            # Finished epoch\n",
    "            self._epochs_completed += 1\n",
    "            # Get the rest examples in this epoch\n",
    "            rest_num_examples = self._num_examples - start\n",
    "            images_rest_part = self._image_indices[start:self._num_examples]\n",
    "            labels_rest_part = self._image_indices[start:self._num_examples]\n",
    "            # Shuffle the data\n",
    "            if shuffle:\n",
    "                perm = np.arange(self._num_examples)\n",
    "                np.random.shuffle(perm)\n",
    "                self._image_indices = self.image_indices[perm]\n",
    "                self._labels = self.labels[perm]\n",
    "          # Start next epoch\n",
    "            start = 0\n",
    "            self._index_in_epoch = batch_size - rest_num_examples\n",
    "            end = self._index_in_epoch\n",
    "            images_new_part = self._image_indices[start:end]\n",
    "            labels_new_part = self._labels[start:end]\n",
    "            labels = np.concatenate((labels_rest_part, labels_new_part), axis=0)\n",
    "            images, labels= load_images_flat(np.concatenate((images_rest_part, images_new_part), axis =0), labels, path = self.path, seq = aug_seq)\n",
    "            return images, labels\n",
    "        else:\n",
    "            self._index_in_epoch += batch_size\n",
    "            end = self._index_in_epoch\n",
    "            labels = self._labels[start:end]\n",
    "            images, labels = load_images_flat(self._image_indices[start:end], labels, path = self.path, seq = aug_seq)            \n",
    "            return images, labels"
   ]
  },
  {
   "cell_type": "markdown",
   "metadata": {},
   "source": [
    "##### Data Augmentation\n",
    "\n",
    "As we load images for training, we want to make a copy of each image, apply a random set of augmentations to it and add it to our dataset. This is so that we can generate more images for training that are roughly based on the current dataset and have some reasonable differences. For SVM, we chose to add some amount of Gaussian Blur, flip the image left-right, or flip it up-down. In order to implement this, we used the imgaug library, which allows us to define sequences of augmentations to be applied to each image passed to the sequence. Then we can define a sequence for every combination of augmentations listed above, and select one randomly to apply to each image.  "
   ]
  },
  {
   "cell_type": "code",
   "execution_count": 5,
   "metadata": {
    "collapsed": true
   },
   "outputs": [],
   "source": [
    "# see https://github.com/aleju/imgaug\n",
    "flip_lr_seq = iaa.Sequential([\n",
    "    iaa.Fliplr(1), # horizontally flip\n",
    "])\n",
    "\n",
    "flip_ud_seq = iaa.Sequential([\n",
    "    iaa.Flipud(1), # vertically flip\n",
    "])\n",
    "\n",
    "gauss_1_seq = iaa.Sequential([\n",
    "    iaa.GaussianBlur(1.0), # blur images with a sigma of 0 to 3.0\n",
    "])\n",
    "\n",
    "flip_seq = iaa.Sequential([\n",
    "    iaa.Flipud(1), # vertically flip\n",
    "    iaa.Fliplr(1), # horizontally flip\n",
    "])\n",
    "\n",
    "flip_ud_gauss_seq = iaa.Sequential([\n",
    "    iaa.Flipud(1), # vertically flip\n",
    "    iaa.GaussianBlur(1.0),\n",
    "])\n",
    "\n",
    "flip_lr_gauss_seq = iaa.Sequential([\n",
    "    iaa.Fliplr(1), # vertically flip\n",
    "    iaa.GaussianBlur(1.0),\n",
    "])\n",
    "\n",
    "flip_2_gauss_seq = iaa.Sequential([\n",
    "    iaa.Flipud(1), # vertically flip\n",
    "    iaa.Fliplr(1), # horizontally flip\n",
    "    iaa.GaussianBlur(1.0),\n",
    "])\n",
    "# pass this array to DataSet object. during next_batch() one of the seq in the array will be picked randomly and applied when loading data\n",
    "seq_array = [flip_lr_seq, flip_ud_seq, gauss_1_seq, flip_seq, flip_ud_gauss_seq, flip_lr_gauss_seq, flip_2_gauss_seq]"
   ]
  },
  {
   "cell_type": "markdown",
   "metadata": {},
   "source": [
    "Below you can see an example of how the imgaug library works, and how we use sequences."
   ]
  },
  {
   "cell_type": "code",
   "execution_count": 12,
   "metadata": {},
   "outputs": [
    {
     "name": "stdout",
     "output_type": "stream",
     "text": [
      "[ Sequential(name=UnnamedSequential, augmenters=[Fliplr(name=UnnamedFliplr, parameters=[Binomial(Deterministic(float 1.00000000))], deterministic=False)], deterministic=False)]\n"
     ]
    }
   ],
   "source": [
    "print(np.random.choice(seq_array, 1))\n",
    "\n",
    "img = Image.open(data_path + \"train/\"+str(3)+\".jpg\")\n",
    "seq = iaa.Sequential([\n",
    "#     iaa.Crop(px=(0, 16)), # crop images from each side by 0 to 16px (randomly chosen)\n",
    "    iaa.Flipud(1), # horizontally flip image\n",
    "    iaa.GaussianBlur(sigma=(1.0)) # blur images with a sigma of 1.0\n",
    "])\n",
    "# img.show()\n",
    "img.thumbnail([500,600])\n",
    "img.save(\"example_no_aug1.png\")\n",
    "arrg = np.array(img)\n",
    "im_aug = seq.augment_images(arrg)\n",
    "new_img = Image.fromarray(im_aug,'RGB')\n",
    "img.thumbnail([500,600])\n",
    "new_img.save(\"example_aug1.png\")"
   ]
  },
  {
   "cell_type": "markdown",
   "metadata": {},
   "source": [
    "Example of an image without aug:\n",
    "![example_no_aug1](example_no_aug1.png)\n",
    "\n",
    "Example of an image with aug:\n",
    "![example_aug1](example_aug1.png)"
   ]
  },
  {
   "cell_type": "markdown",
   "metadata": {},
   "source": [
    "We now prepare the data for loading:"
   ]
  },
  {
   "cell_type": "code",
   "execution_count": 38,
   "metadata": {
    "collapsed": true
   },
   "outputs": [],
   "source": [
    "# prepare labels\n",
    "train_labels = pd.read_csv(data_path + \"train_labels.csv\")['invasive'].values\n",
    "y_train = train_labels[:1800]\n",
    "y_validation = train_labels[1800:]\n",
    "\n",
    "# prepare data\n",
    "train_data = DataSetSVM(np.arange(0,1800), y_train, dataPath = data_path + \"train/\", aug_array = seq_array)\n",
    "validation_data = DataSetSVM(np.arange(1800,len(train_labels)), y_validation, dataPath = data_path + \"train/\")"
   ]
  },
  {
   "cell_type": "markdown",
   "metadata": {},
   "source": [
    "We also set up the parameters we will need for implementing SVM in tensorflow:"
   ]
  },
  {
   "cell_type": "code",
   "execution_count": 39,
   "metadata": {
    "collapsed": true
   },
   "outputs": [],
   "source": [
    "svmC = 100\n",
    "num_features = 2998092\n",
    "n_epochs = 20\n",
    "batch_size = 80\n",
    "best_loss_val = np.infty\n",
    "check_interval = 5\n",
    "checks_since_last_progress = 0\n",
    "max_checks_without_progress = 8\n",
    "best_model_params = None "
   ]
  },
  {
   "cell_type": "markdown",
   "metadata": {},
   "source": [
    "Below we implement the Linear SVM in TensorFlow. We define our weights and bias, as well as the y function (y=W*x-b) we will use in the cost function. We then define the regularization and hinge loss functions in order to create the final loss function that we minimize using gradient descent. The regularization loss function penalizes us having to move misclassified examples across the margin, while the hinge function is used to determine the best margin possible. In the end we also add evaluation functions for accuracy calculation. "
   ]
  },
  {
   "cell_type": "code",
   "execution_count": 40,
   "metadata": {
    "collapsed": true
   },
   "outputs": [],
   "source": [
    "# set graph\n",
    "reset_graph()\n",
    "\n",
    "# inputs\n",
    "X = tf.placeholder(tf.float32, shape=[None, num_features], name=\"X\")\n",
    "y = tf.placeholder(tf.float32, shape=[None], name=\"y\")\n",
    "training = tf.placeholder_with_default(False, shape=[], name='training')\n",
    "\n",
    "# set weights and create function\n",
    "W = tf.Variable(tf.zeros([num_features,1]))\n",
    "b = tf.Variable(tf.zeros([1]))\n",
    "y_raw = tf.matmul(X,W) - b\n",
    "\n",
    "# Optimization.\n",
    "regularization_loss = tf.reduce_sum(tf.square(W))\n",
    "\n",
    "# *2 needed as the training involves augmentation, which adds each image again in an augmented form, so we get twice as big an array from load_image_flat\n",
    "hinge_loss = tf.reduce_mean(tf.maximum(tf.zeros([batch_size*2,1]), 1 - y*y_raw))\n",
    "\n",
    "svm_loss = svmC*regularization_loss + hinge_loss\n",
    "train_step = tf.train.GradientDescentOptimizer(0.01).minimize(svm_loss)\n",
    "\n",
    "# SVM Loss for validation set;\n",
    "# This is needed because the training involves augmentation, which adds each image again in an augmented form\n",
    "# This doesn't happen for validation\n",
    "hinge_loss_test = tf.reduce_mean(tf.maximum(tf.zeros([batch_size,1]), 1 - y*y_raw))\n",
    "svm_loss_test = svmC*regularization_loss + hinge_loss_test\n",
    "\n",
    "# Evaluation.\n",
    "predicted_class = tf.sign(y_raw);\n",
    "correct_prediction = tf.equal(y,predicted_class)\n",
    "accuracy = tf.reduce_mean(tf.cast(correct_prediction, \"float\"))\n",
    "\n",
    "with tf.name_scope(\"init_and_save\"):\n",
    "    init = tf.global_variables_initializer()\n",
    "    saver = tf.train.Saver()"
   ]
  },
  {
   "cell_type": "markdown",
   "metadata": {},
   "source": [
    "We now run our SVM algorithm:"
   ]
  },
  {
   "cell_type": "code",
   "execution_count": null,
   "metadata": {
    "collapsed": true
   },
   "outputs": [],
   "source": [
    "X_val, y_val = validation_data.next_batch(80)\n",
    "with tf.Session() as sess:\n",
    "    init.run()\n",
    "    for epoch in range(n_epochs):\n",
    "        # start an epoch\n",
    "        for iteration in range(train_data.num_examples // batch_size):\n",
    "            # get a batch to run\n",
    "            X_batch, y_batch = train_data.next_batch(batch_size)\n",
    "            # run the train\n",
    "            print(X_batch.shape)\n",
    "            print(X_val.shape)\n",
    "            sess.run(train_step, feed_dict={X: X_batch, y: y_batch, training: True})\n",
    "            loss_val = svm_loss_test.eval(feed_dict={X: X_val,y: y_val})\n",
    "            if loss_val < best_loss_val:\n",
    "                best_loss_val = loss_val\n",
    "                checks_since_last_progress = 0\n",
    "            else:\n",
    "                checks_since_last_progress += 1\n",
    "        # check accuracy\n",
    "        acc_train = accuracy.eval(feed_dict={X: X_batch, y: y_batch})\n",
    "        acc_val = accuracy.eval(feed_dict={X: X_val, y: y_val})\n",
    "        print(\"Epoch {}, train accuracy: {:.4f}%, valid. accuracy: {:.4f}%, valid. best loss: {:.6f}\".format(epoch, acc_train * 100, acc_val * 100, best_loss_val))\n",
    "        if checks_since_last_progress > max_checks_without_progress:\n",
    "            print(\"Early stopping!\")\n",
    "            print()\n",
    "            break"
   ]
  },
  {
   "cell_type": "markdown",
   "metadata": {},
   "source": [
    "Sample output:\n",
    "\n",
    "Epoch 0, train accuracy: 66.2500%, valid. accuracy: 65.0000%, valid. best loss: 0.366802\n",
    "\n",
    "Epoch 1, train accuracy: 61.2500%, valid. accuracy: 65.0000%, valid. best loss: 0.366787\n",
    "\n",
    "Epoch 2, train accuracy: 56.2500%, valid. accuracy: 65.0000%, valid. best loss: 0.366772\n",
    "\n",
    "Epoch 3, train accuracy: 53.7500%, valid. accuracy: 65.0000%, valid. best loss: 0.366757\n",
    "\n",
    "Epoch 4, train accuracy: 55.0000%, valid. accuracy: 65.0000%, valid. best loss: 0.366743\n",
    "\n",
    "Epoch 5, train accuracy: 68.7500%, valid. accuracy: 65.0000%, valid. best loss: 0.366728\n",
    "\n",
    "Epoch 6, train accuracy: 68.7500%, valid. accuracy: 65.0000%, valid. best loss: 0.366713\n",
    "\n",
    "Epoch 7, train accuracy: 67.5000%, valid. accuracy: 65.0000%, valid. best loss: 0.366699\n",
    "\n",
    "Epoch 8, train accuracy: 73.7500%, valid. accuracy: 65.0000%, valid. best loss: 0.366684\n",
    "\n",
    "Epoch 9, train accuracy: 66.2500%, valid. accuracy: 65.0000%, valid. best loss: 0.366669\n",
    "\n",
    "Epoch 10, train accuracy: 63.7500%, valid. accuracy: 65.0000%, valid. best loss: 0.366654\n",
    "\n",
    "Epoch 11, train accuracy: 62.5000%, valid. accuracy: 65.0000%, valid. best loss: 0.366640\n",
    "\n",
    "Epoch 12, train accuracy: 65.0000%, valid. accuracy: 65.0000%, valid. best loss: 0.366625\n",
    "\n",
    "Epoch 13, train accuracy: 57.5000%, valid. accuracy: 65.0000%, valid. best loss: 0.366611\n",
    "\n",
    "Epoch 14, train accuracy: 68.7500%, valid. accuracy: 65.0000%, valid. best loss: 0.366596\n",
    "\n",
    "Epoch 15, train accuracy: 65.0000%, valid. accuracy: 65.0000%, valid. best loss: 0.366581\n",
    "\n",
    "Epoch 16, train accuracy: 73.7500%, valid. accuracy: 65.0000%, valid. best loss: 0.366567\n",
    "\n",
    "Epoch 17, train accuracy: 66.2500%, valid. accuracy: 65.0000%, valid. best loss: 0.366552\n",
    "\n",
    "Epoch 18, train accuracy: 53.7500%, valid. accuracy: 65.0000%, valid. best loss: 0.366538\n",
    "\n",
    "Epoch 19, train accuracy: 57.5000%, valid. accuracy: 65.0000%, valid. best loss: 0.366523\n",
    "\n",
    "Epoch 20, train accuracy: 60.0000%, valid. accuracy: 65.0000%, valid. best loss: 0.366509\n",
    "\n",
    "Epoch 21, train accuracy: 58.7500%, valid. accuracy: 65.0000%, valid. best loss: 0.366494\n",
    "\n",
    "Epoch 22, train accuracy: 60.0000%, valid. accuracy: 65.0000%, valid. best loss: 0.366479\n",
    "\n",
    "Epoch 23, train accuracy: 62.5000%, valid. accuracy: 65.0000%, valid. best loss: 0.366465\n",
    "\n",
    "Epoch 24, train accuracy: 65.0000%, valid. accuracy: 65.0000%, valid. best loss: 0.366450\n",
    "\n",
    "Epoch 25, train accuracy: 62.5000%, valid. accuracy: 65.0000%, valid. best loss: 0.366436\n",
    "\n",
    "Epoch 26, train accuracy: 63.7500%, valid. accuracy: 65.0000%, valid. best loss: 0.366422\n",
    "\n",
    "Epoch 27, train accuracy: 61.2500%, valid. accuracy: 65.0000%, valid. best loss: 0.366407\n",
    "\n",
    "Epoch 28, train accuracy: 75.0000%, valid. accuracy: 65.0000%, valid. best loss: 0.366393\n",
    "\n",
    "Epoch 29, train accuracy: 53.7500%, valid. accuracy: 65.0000%, valid. best loss: 0.366378"
   ]
  },
  {
   "cell_type": "markdown",
   "metadata": {},
   "source": [
    "As we can see from the results, SVM has a very low, albeit consistent train and test accuracy. Even with additional data augmentation samples, it is unable to do better than 75% train and 65% test accuracy. This shows that SVM underfits the training data, even if we use very low regularization values (high C). As a whole, it looks like SVM cannot capture the complexities of the sample data well enough to fit it accurately. "
   ]
  },
  {
   "cell_type": "markdown",
   "metadata": {},
   "source": [
    "### Main Approach: CNN\n",
    "\n",
    "Following the bad performance of our initial approaches, we decided to use Convolutional Neural Networks as the main engine for prediction. CNNs are neural networks that are specifically designed to work with image data. The convolutional layers use a specifically designed filter to reduce the dimensions of the images while maintaining the overall composition and variance of the data. A combination of convolutional, max pool, and fully connected layers allow us to build a neural network with a much better performance than our baseline models.\n",
    "\n",
    "The structure of the network is as follows:\n",
    "- Convolution layer 1\n",
    "- Convolution layer 2\n",
    "- Max pool layer\n",
    "- Fully connected layer\n",
    "- Output layer \n",
    "\n",
    "After our initial testing showed that we overfit the training data, we applied following techniques to improve model performance and avoid overfitting:\n",
    "1. Applied 25% drop out at max pool layer and fully connected layer\n",
    "2. We use data augmentation techniques such as Gaussian blur and image rotation to generate additional images variance \n",
    "\n",
    "We use tensorflow version 1.0 and trained the model using P2 GPU instance in AWS. This is because CNNs require a lot of processing power. Therefore, our opportunity to multiple tests and runs was limited by the high cost of running this on an expensive AWS server. \n",
    "\n",
    "It is also important to note that we had to resize the input images to (300,400,3) because otherwise we would run out of memory. \n",
    "\n",
    "Below we build the tensorflow graph for the models. We are testing several variants of the models to compare performance."
   ]
  },
  {
   "cell_type": "code",
   "execution_count": 14,
   "metadata": {
    "collapsed": true
   },
   "outputs": [],
   "source": [
    "height = 866\n",
    "width = 1154\n",
    "channels = 3\n",
    "n_inputs = height * width\n",
    "\n",
    "conv1_fmaps = 64\n",
    "conv1_ksize = 3\n",
    "conv1_stride = 1\n",
    "conv1_pad = \"SAME\"\n",
    "\n",
    "conv2_fmaps = 32\n",
    "conv2_ksize = 3\n",
    "conv2_stride = 1\n",
    "conv2_pad = \"SAME\"\n",
    "conv2_dropout_rate = 0.25\n",
    "\n",
    "\n",
    "pool3_fmaps = conv2_fmaps\n",
    "\n",
    "n_fc1 = 32\n",
    "fc1_dropout_rate = 0.25\n",
    "\n",
    "n_outputs = 2\n",
    "\n",
    "reset_graph()\n",
    "\n",
    "with tf.name_scope(\"inputs\"):\n",
    "    X = tf.placeholder(tf.float32, shape=[None, height, width, channels], name=\"X\")\n",
    "    X_resized = tf.image.resize_images(X, [300, 360])\n",
    "\n",
    "    y = tf.placeholder(tf.int32, shape=[None], name=\"y\")\n",
    "    training = tf.placeholder_with_default(False, shape=[], name='training')\n",
    "\n",
    "\n",
    "conv1 = tf.layers.conv2d(X_resized, filters=conv1_fmaps, kernel_size=conv1_ksize,\n",
    "                         strides=conv1_stride, padding=conv1_pad,\n",
    "                         activation=tf.nn.relu, name=\"conv1\")\n",
    "conv2 = tf.layers.conv2d(conv1, filters=conv2_fmaps, kernel_size=conv2_ksize,\n",
    "                         strides=conv2_stride, padding=conv2_pad,\n",
    "                         activation=tf.nn.relu, name=\"conv2\")\n",
    "\n",
    "with tf.name_scope(\"pool3\"):\n",
    "    pool3 = tf.nn.max_pool(conv2, ksize=[1, 2, 2, 1], strides=[1, 2, 2, 1], padding=\"VALID\")\n",
    "    pool3_flat = tf.reshape(pool3, shape=[-1, pool3_fmaps * 150 * 180])\n",
    "    pool3_flat_drop = tf.layers.dropout(pool3_flat, conv2_dropout_rate, training=training)\n",
    "with tf.name_scope(\"fc1\"):\n",
    "    fc1 = tf.layers.dense(pool3_flat_drop, n_fc1, activation=tf.nn.relu, name=\"fc1\")\n",
    "    fc1_drop = tf.layers.dropout(fc1, fc1_dropout_rate, training=training)\n",
    "\n",
    "with tf.name_scope(\"output\"):\n",
    "    logits = tf.layers.dense(fc1_drop, n_outputs, name=\"output\")\n",
    "    Y_proba = tf.nn.softmax(logits, name=\"Y_proba\")\n",
    "\n",
    "with tf.name_scope(\"train\"):\n",
    "    xentropy = tf.nn.sparse_softmax_cross_entropy_with_logits(logits=logits, labels=y)\n",
    "    loss = tf.reduce_mean(xentropy)\n",
    "    optimizer = tf.train.AdamOptimizer()\n",
    "    training_op = optimizer.minimize(loss)\n",
    "\n",
    "with tf.name_scope(\"eval\"):\n",
    "    correct = tf.nn.in_top_k(logits, y, 1)\n",
    "    accuracy = tf.reduce_mean(tf.cast(correct, tf.float32))\n",
    "\n",
    "with tf.name_scope(\"init_and_save\"):\n",
    "    init = tf.global_variables_initializer()\n",
    "    saver = tf.train.Saver()"
   ]
  },
  {
   "cell_type": "code",
   "execution_count": 15,
   "metadata": {
    "collapsed": true
   },
   "outputs": [],
   "source": [
    "# Possibly remove this\n",
    "def get_model_params():\n",
    "    gvars = tf.get_collection(tf.GraphKeys.GLOBAL_VARIABLES)\n",
    "    return {gvar.op.name: value for gvar, value in zip(gvars, tf.get_default_session().run(gvars))}\n",
    "\n",
    "def restore_model_params(model_params):\n",
    "    gvar_names = list(model_params.keys())\n",
    "    assign_ops = {gvar_name: tf.get_default_graph().get_operation_by_name(gvar_name + \"/Assign\")\n",
    "                  for gvar_name in gvar_names}\n",
    "    init_values = {gvar_name: assign_op.inputs[1] for gvar_name, assign_op in assign_ops.items()}\n",
    "    feed_dict = {init_values[gvar_name]: model_params[gvar_name] for gvar_name in gvar_names}\n",
    "    tf.get_default_session().run(assign_ops, feed_dict=feed_dict)"
   ]
  },
  {
   "cell_type": "markdown",
   "metadata": {},
   "source": [
    "First, we try to fit the data without using data augmentation:"
   ]
  },
  {
   "cell_type": "code",
   "execution_count": 27,
   "metadata": {},
   "outputs": [
    {
     "name": "stdout",
     "output_type": "stream",
     "text": [
      "Epoch 0, train accuracy: 60.0000%, test accuracy: 58.1818%, loss: 0.665791, best loss: 0.665741\n",
      "Epoch 1, train accuracy: 74.2857%, test accuracy: 72.7273%, loss: 0.599543, best loss: 0.601388\n",
      "Epoch 2, train accuracy: 68.5714%, test accuracy: 67.2727%, loss: 0.606988, best loss: 0.578064\n",
      "Epoch 3, train accuracy: 81.4286%, test accuracy: 76.3636%, loss: 0.566922, best loss: 0.524850\n",
      "Epoch 4, train accuracy: 88.5714%, test accuracy: 85.4545%, loss: 0.434947, best loss: 0.434941\n",
      "Epoch 5, train accuracy: 98.5714%, test accuracy: 80.0000%, loss: 0.439690, best loss: 0.413104\n",
      "Epoch 6, train accuracy: 97.1429%, test accuracy: 72.7273%, loss: 0.781371, best loss: 0.413104\n",
      "Epoch 7, train accuracy: 98.5714%, test accuracy: 74.5455%, loss: 0.544343, best loss: 0.413104\n",
      "Epoch 8, train accuracy: 100.0000%, test accuracy: 72.7273%, loss: 0.884409, best loss: 0.413104\n",
      "Epoch 9, train accuracy: 100.0000%, test accuracy: 72.7273%, loss: 0.588346, best loss: 0.413104\n",
      "Epoch 10, train accuracy: 100.0000%, test accuracy: 74.5455%, loss: 0.630064, best loss: 0.413104\n",
      "Epoch 11, train accuracy: 100.0000%, test accuracy: 78.1818%, loss: 0.734039, best loss: 0.413104\n",
      "Epoch 12, train accuracy: 97.1429%, test accuracy: 80.0000%, loss: 0.463004, best loss: 0.413104\n",
      "Epoch 13, train accuracy: 98.5714%, test accuracy: 69.0909%, loss: 0.877005, best loss: 0.413104\n",
      "Epoch 14, train accuracy: 100.0000%, test accuracy: 70.9091%, loss: 0.870427, best loss: 0.413104\n",
      "Epoch 15, train accuracy: 100.0000%, test accuracy: 70.9091%, loss: 0.999083, best loss: 0.413104\n",
      "Epoch 16, train accuracy: 100.0000%, test accuracy: 69.0909%, loss: 0.917802, best loss: 0.413104\n",
      "Epoch 17, train accuracy: 100.0000%, test accuracy: 70.9091%, loss: 0.906862, best loss: 0.413104\n",
      "Epoch 18, train accuracy: 100.0000%, test accuracy: 70.9091%, loss: 0.953206, best loss: 0.413104\n",
      "Epoch 19, train accuracy: 100.0000%, test accuracy: 70.9091%, loss: 1.042577, best loss: 0.413104\n",
      "Epoch 20, train accuracy: 100.0000%, test accuracy: 69.0909%, loss: 1.020047, best loss: 0.413104\n",
      "Epoch 21, train accuracy: 100.0000%, test accuracy: 69.0909%, loss: 1.470435, best loss: 0.413104\n",
      "Epoch 22, train accuracy: 100.0000%, test accuracy: 70.9091%, loss: 1.002305, best loss: 0.413104\n",
      "Early stopping!\n"
     ]
    }
   ],
   "source": [
    "y_test = train_labels[2240:]\n",
    "test_data = DataSet(np.arange(2240,len(train_labels)), y_test)\n",
    "train_data =  DataSet(np.arange(0,2240), train_labels[:2240])\n",
    "X_val, y_val = test_data.next_batch(55)\n",
    "\n",
    "\n",
    "\n",
    "\n",
    "n_epochs = 100\n",
    "batch_size = 70\n",
    "\n",
    "best_loss_val = np.infty\n",
    "check_interval = 5\n",
    "checks_since_last_progress = 0\n",
    "max_checks_without_progress = 120\n",
    "best_model_params = None \n",
    "\n",
    "with tf.Session() as sess:\n",
    "    init.run()\n",
    "    for epoch in range(n_epochs):\n",
    "        for iteration in range(train_data.num_examples // batch_size):\n",
    "            X_batch, y_batch = train_data.next_batch(batch_size)\n",
    "            sess.run(training_op, feed_dict={X: X_batch, y: y_batch, training: True})\n",
    "            if iteration % check_interval == 0:\n",
    "                loss_val = loss.eval(feed_dict={X: X_val,\n",
    "                                                y: y_val})\n",
    "                if loss_val < best_loss_val:\n",
    "                    best_loss_val = loss_val\n",
    "                    checks_since_last_progress = 0\n",
    "                    best_model_params = get_model_params()\n",
    "                else:\n",
    "                    checks_since_last_progress += 1\n",
    "        acc_train = accuracy.eval(feed_dict={X: X_batch, y: y_batch})\n",
    "        acc_test = accuracy.eval(feed_dict={X: X_val, y: y_val})\n",
    "        loss_val = loss.eval(feed_dict={X: X_val,\n",
    "                                                y: y_val})\n",
    "        print(\"Epoch {}, train accuracy: {:.4f}%, test accuracy: {:.4f}%, loss: {:.6f}, best loss: {:.6f}\".format(\n",
    "                  epoch, acc_train * 100, acc_test * 100, loss_val, best_loss_val))\n",
    "        if checks_since_last_progress > max_checks_without_progress:\n",
    "            print(\"Early stopping!\")\n",
    "            break\n",
    "\n",
    "    if best_model_params:\n",
    "        restore_model_params(best_model_params)\n",
    "\n",
    "    save_path = saver.save(sess, \"./my_isd_model22\")"
   ]
  },
  {
   "cell_type": "code",
   "execution_count": 21,
   "metadata": {},
   "outputs": [
    {
     "data": {
      "image/png": "[encoded data removed]",
      "text/plain": [
       "<matplotlib.figure.Figure at 0x7fee3c5842b0>"
      ]
     },
     "metadata": {},
     "output_type": "display_data"
    }
   ],
   "source": [
    "\n",
    "# plt.plot(range(len(best_losses)),best_aug_losses, label ='best losses')\n",
    "# plt.plot(range(len(eporch_losses)),eporch_aug_losses, label ='eporch losses' )\n",
    "plt.plot(range(len(accs_train)),accs_train, label ='Train Accuracy' )\n",
    "plt.plot(range(len(accs_val)),accs_val,label ='Val Accuracy' )\n",
    "\n",
    "plt.legend(loc='best')\n",
    "plt.show()\n"
   ]
  },
  {
   "cell_type": "markdown",
   "metadata": {},
   "source": [
    "The results show that CNN is much better at fitting the training data correctly when compared to Linear SVM or LR. However, the testing accuracy is around 70%, with the best test accuracy around 80%. This does show that we are doing much better than with the baseline models, but there could be some overfitting in this case.  \n",
    "\n",
    "Below we are adding the augmented data in order to see if this will improve our results. "
   ]
  },
  {
   "cell_type": "code",
   "execution_count": null,
   "metadata": {},
   "outputs": [
    {
     "name": "stdout",
     "output_type": "stream",
     "text": [
      "Epoch 0, train accuracy: 70.0000%, test accuracy: 54.5455%, best loss: 0.605495\n"
     ]
    }
   ],
   "source": [
    "# train_aug_data =  DataAugSet(np.arange(0,2130), train_labels[:2130])\n",
    "best_aug_losses =[]\n",
    "eporch_aug_losses=[]\n",
    "accs_aug_train =[]\n",
    "accs_aug_val =[]\n",
    "epoch_aug_stop=0\n",
    "\n",
    "y_test = train_labels[2240:]\n",
    "test_data = DataSet(np.arange(2240,len(train_labels)), y_test)\n",
    "train_aug_data =  DataAugSet(np.arange(0,2240), train_labels[:2240])\n",
    "X_val, y_val = test_data.next_batch(55)\n",
    "\n",
    "\n",
    "\n",
    "\n",
    "n_epochs = 100\n",
    "batch_size = 40\n",
    "\n",
    "best_loss_val = np.infty\n",
    "check_interval = 5\n",
    "checks_since_last_progress = 0\n",
    "max_checks_without_progress = 120\n",
    "best_model_params = None \n",
    "\n",
    "with tf.Session() as sess:\n",
    "    init.run()\n",
    "    for epoch in range(n_epochs):\n",
    "        for iteration in range(train_aug_data.num_examples // batch_size):\n",
    "\n",
    "            \n",
    "            X_batch, y_batch = train_aug_data.next_batch(batch_size)\n",
    "            sess.run(training_op, feed_dict={X: X_batch, y: y_batch, training: True})\n",
    "            if iteration % check_interval == 0:\n",
    "                loss_aug_val = loss.eval(feed_dict={X: X_val, y:y_val})\n",
    "                if loss_aug_val < best_loss_val:\n",
    "                    best_loss_val = loss_aug_val\n",
    "                    checks_since_last_progress = 0\n",
    "                    best_model_params = get_model_params()\n",
    "                else:\n",
    "                    checks_since_last_progress += 1\n",
    "\n",
    "\n",
    "        acc_aug_train = accuracy.eval(feed_dict={X: X_batch, y: y_batch})\n",
    "        \n",
    "#         loss_aug_val = loss.eval(feed_dict={X: X_val, y:y_val})\n",
    "        acc_aug_val = accuracy.eval(feed_dict={X: X_val, y: y_val})\n",
    "        \n",
    "        print(\"Epoch {}, train accuracy: {:.4f}%, test accuracy: {:.4f}%, best loss: {:.6f}\".format(\n",
    "                  epoch, acc_aug_train * 100, acc_aug_val * 100, best_loss_val))\n",
    "#         accs_aug_train.append(acc_aug_train)\n",
    "#         accs_aug_val.append(acc_aug_val)\n",
    "#         best_aug_losses.append(best_loss_val)\n",
    "#         eporch_aug_losses.append(loss_aug_val)\n",
    "\n",
    "        if checks_since_last_progress > max_checks_without_progress:\n",
    "            print(\"Early stopping!\")\n",
    "            epoch_stop = epoch\n",
    "            break\n",
    "\n",
    "    if best_model_params:\n",
    "        restore_model_params(best_model_params)\n",
    "\n",
    "    save_path = saver.save(sess, \"./my_isd_model102\")\n"
   ]
  },
  {
   "cell_type": "code",
   "execution_count": 20,
   "metadata": {},
   "outputs": [
    {
     "data": {
      "image/png": "[encoded data removed]",
      "text/plain": [
       "<matplotlib.figure.Figure at 0x7fee3cbb99e8>"
      ]
     },
     "metadata": {},
     "output_type": "display_data"
    }
   ],
   "source": [
    "\n",
    "# plt.plot(range(len(best_losses)),best_losses, label ='best losses')\n",
    "# plt.plot(range(len(eporch_losses)),eporch_losses, label ='eporch losses' )\n",
    "plt.plot(range(len(accs_train)),accs_aug_train, label ='Train Accuracy' )\n",
    "plt.plot(range(len(accs_val)),accs_aug_val,label ='Val Accuracy' )\n",
    "\n",
    "plt.legend(loc='best')\n",
    "plt.show()\n"
   ]
  },
  {
   "cell_type": "markdown",
   "metadata": {},
   "source": [
    "As can be seen form the graph, our training accuracy decreased with the addition of augmented data and increased dropout rate. This means we managed to reduce some of the overfitting by adding more images which the model has to adjust for, as well as by increasing the number of coefficients randomly set to zero during training. However, we didn't see any consistent improvement on the test data accuracy, which shows that our model still needs to be further adjusted. \n",
    "\n",
    "The below code shows how we tried to evaluate our performance on the test dataset. We used the different CNN models we generated previously and for which we saved our parameters. We also generate the labels being assigned to the data at the time of the run. "
   ]
  },
  {
   "cell_type": "code",
   "execution_count": 9,
   "metadata": {},
   "outputs": [
    {
     "name": "stdout",
     "output_type": "stream",
     "text": [
      "Test accuracy with data aug: 0.887499998013\n"
     ]
    }
   ],
   "source": [
    "#Evaluation\n",
    "test_data = DataSet(np.arange(2050,len(train_labels)), train_labels[2050:])\n",
    "test_batch_size = 10\n",
    "acc_test =[]\n",
    "with tf.Session() as sess:\n",
    "    saver.restore(sess,\"./my_isd_model101\")\n",
    "    for iteration in range(test_data.num_examples // test_batch_size):\n",
    "        X_test, y_test = test_data.next_batch(test_batch_size)\n",
    "        acc_test.append(accuracy.eval(feed_dict={X: X_test, y:y_test}))\n",
    "        #print(\"probability\", Y_proba.eval(feed_dict={X: X_test}))\n",
    "        #print(\"actual\", y_test)\n",
    "\n",
    "       \n",
    "\n",
    "print(\"Test accuracy with data aug:\", sum(acc_test)/len(acc_test))\n"
   ]
  },
  {
   "cell_type": "code",
   "execution_count": 31,
   "metadata": {},
   "outputs": [
    {
     "name": "stdout",
     "output_type": "stream",
     "text": [
      "Test accuracy with data aug: 0.836363646117\n"
     ]
    }
   ],
   "source": [
    "#Evaluation\n",
    "test_data = DataSet(np.arange(2240,len(train_labels)), train_labels[2240:])\n",
    "test_batch_size = 5\n",
    "acc_test =[]\n",
    "with tf.Session() as sess:\n",
    "    saver.restore(sess,\"./my_isd_model2\")\n",
    "    for iteration in range(test_data.num_examples // test_batch_size):\n",
    "        X_test, y_test = test_data.next_batch(test_batch_size)\n",
    "        acc_test.append(accuracy.eval(feed_dict={X: X_test, y:y_test}))\n",
    "        #print(\"probability\", Y_proba.eval(feed_dict={X: X_test}))\n",
    "        #print(\"actual\", y_test)\n",
    "\n",
    "       \n",
    "\n",
    "print(\"Test accuracy with data aug:\", sum(acc_test)/len(acc_test))\n"
   ]
  },
  {
   "cell_type": "code",
   "execution_count": 10,
   "metadata": {},
   "outputs": [
    {
     "name": "stdout",
     "output_type": "stream",
     "text": [
      "Test accuracy: 0.924999994536\n"
     ]
    }
   ],
   "source": [
    "#Evaluation\n",
    "test_data = DataSet(np.arange(2050,len(train_labels)), train_labels[2050:])\n",
    "test_batch_size = 10\n",
    "acc_test =[]\n",
    "with tf.Session() as sess:\n",
    "    saver.restore(sess,\"./my_isd_model2\")\n",
    "    for iteration in range(test_data.num_examples // test_batch_size):\n",
    "        X_test, y_test = test_data.next_batch(test_batch_size)\n",
    "        acc_test.append(accuracy.eval(feed_dict={X: X_test, y:y_test}))\n",
    "        #print(\"probability\", Y_proba.eval(feed_dict={X: X_test}))\n",
    "        #print(\"actual\", y_test)\n",
    "\n",
    "       \n",
    "\n",
    "print(\"Test accuracy:\", sum(acc_test)/len(acc_test))\n"
   ]
  },
  {
   "cell_type": "code",
   "execution_count": 10,
   "metadata": {
    "collapsed": true
   },
   "outputs": [],
   "source": [
    "#prediction for test set\n",
    "pred_data = DataSet(np.arange(0,1531), None)\n",
    "pred_batch_size = 50\n",
    "prediction_labels =[]\n",
    "with tf.Session() as sess:\n",
    "    saver.restore(sess,\"./my_isd_model101\")\n",
    "    for iteration in range(pred_data.num_examples // pred_batch_size+1):\n",
    "        X_pred = pred_data.next_pred_batch(pred_batch_size)\n",
    "        prediction_labels.append(Y_proba.eval(feed_dict={X: X_pred}))\n",
    "\n",
    "\n",
    "#print(\"labels:\", prediction_labels)\n"
   ]
  },
  {
   "cell_type": "code",
   "execution_count": 11,
   "metadata": {
    "collapsed": true
   },
   "outputs": [],
   "source": [
    "flat_list = [item for sublist in prediction_labels for item in sublist]\n",
    "final_list=[]\n",
    "for i in range(len(flat_list)):\n",
    "    if(flat_list[i][0]>flat_list[i][1]):\n",
    "        final_list.append([i+1,0])\n",
    "    else: final_list.append([i+1,1])\n",
    "\n",
    "np.savetxt(\"output_aug14_2.csv\", final_list, delimiter=\",\")\n",
    "        \n",
    "        "
   ]
  },
  {
   "cell_type": "markdown",
   "metadata": {
    "collapsed": true
   },
   "source": [
    "### Kaggle Results\n",
    "\n",
    "With our best CNN model configuration, which included data augmentation and a high dropout rate during training, we managed to reach 224th place in the Kaggle competition, with a submission score of 0.82862. This was an improvement on our previous submission of 0.75753, which didn't include these methods for regularization. This shows that we managed to reduce overfitting in a way that had an effect on our prediction accuracy on unseen data.  "
   ]
  },
  {
   "cell_type": "markdown",
   "metadata": {},
   "source": [
    "### Future Development\n",
    "\n",
    "If given more time and resources, we could improve our model and accuracy in a number of ways. First, if we could get the hardware required (with a lot of memory and high-peformance GPUs), we would be able to feed the complete images into our CNN, which should give it a lot more information to work with and hopefully improve its accuracy. Second, we could also test more layer setups for our CNN, possibly adding more convolutional layers and working with bigger intermediate dimensions. Third, we could generate even more augmented images and fit models using a bigger training set. Fourth, we could employ feature engineering for image data in order to improve the performance of our CNNs further. Fifth, we could work on developing non-linear SVM algorithms (not currently available in TensorFlow) and see if SVMs can be made to better process image data, since they require less hardware resources to perform."
   ]
  },
  {
   "cell_type": "markdown",
   "metadata": {},
   "source": [
    "### Conclusion\n",
    "\n",
    "In this project we attempted to build a classifier that can work out whether a certain invasive species of plant (Hydrangea) is present in photos of wildlife areas in Brazil. We started by trying to use the Logistic Regression, single-layer NN, and Linear SVM algorithms, although they proved inadequate for the complexity of the input data. We then moved on to using CNNs that are better suited to working with image data, managing to achieve a much better performance. We tried to adjust for overfitting and improve our performance further by using data augmentation and a higher dropout rate to generate more samples and regularize. This improved our accuracy on unseen data, as noted by our Kaggle results before and after the change. Finally, we identified ways we could improve this projecct in the future, so we could one day hope to better understand the spread of invasive species around the world. "
   ]
  }
 ],
 "metadata": {
  "kernelspec": {
   "display_name": "Python 3",
   "language": "python",
   "name": "python3"
  },
  "language_info": {
   "codemirror_mode": {
    "name": "ipython",
    "version": 3
   },
   "file_extension": ".py",
   "mimetype": "text/x-python",
   "name": "python",
   "nbconvert_exporter": "python",
   "pygments_lexer": "ipython3",
   "version": "3.5.3"
  }
 },
 "nbformat": 4,
 "nbformat_minor": 2
}
